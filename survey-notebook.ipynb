{
 "cells": [
  {
   "cell_type": "markdown",
   "metadata": {},
   "source": [
    "> Copyright 2024 Nicolas de Barquin\n",
    " \n",
    "<!-- Licensed under the Apache License, Version 2.0 (the \"License\");\n",
    "you may not use this file except in compliance with the License.\n",
    "You may obtain a copy of the License at\n",
    "\n",
    "http://www.apache.org/licenses/LICENSE-2.0\n",
    "\n",
    "Unless required by applicable law or agreed to in writing, software\n",
    "distributed under the License is distributed on an \"AS IS\" BASIS,\n",
    "WITHOUT WARRANTIES OR CONDITIONS OF ANY KIND, either express or implied.\n",
    "See the License for the specific language governing permissions and\n",
    "limitations under the License. -->"
   ]
  },
  {
   "cell_type": "markdown",
   "metadata": {},
   "source": [
    "# Initial Project Survey 🎮\n",
    "\n",
    "This notebook documents my first exploration session with BMO (my AI companion) to design my learning journey."
   ]
  },
  {
   "cell_type": "markdown",
   "metadata": {},
   "source": [
    "## 1. AI Conversation Documentation\n",
    "\n",
    "**Me**: Hey BMO, can you help me design a learning journey?\n",
    "\n",
    "**BMO**: *beep boop* Of course! Let's start by looking at what you want to learn! (◕‿◕✿)\n",
    "\n",
    "Here's what I understood from our chat:\n",
    "- FastAPI + HTMX project\n",
    "- Raspberry Pi hosting\n",
    "- Skill tree visualization\n",
    "\n",
    "*Notes: I'm capturing our conversation here to track the decision-making process*"
   ]
  },
  {
   "cell_type": "code",
   "execution_count": null,
   "metadata": {},
   "outputs": [],
   "source": [
    "# We can even test concepts right in the notebook!\n",
    "import sqlite3\n",
    "\n",
    "# Test database connection\n",
    "conn = sqlite3.connect('skills.db')\n",
    "print(\"Database connection successful!\")"
   ]
  },
  {
   "cell_type": "markdown",
   "metadata": {},
   "source": [
    "## 2. Visual Planning\n",
    "Let's create a simple visualization of our skill tree structure:"
   ]
  },
  {
   "cell_type": "code",
   "execution_count": null,
   "metadata": {},
   "outputs": [],
   "source": [
    "from graphviz import Digraph\n",
    "\n",
    "dot = Digraph(comment='Skill Dependencies')\n",
    "dot.node('A', 'Base Camp\\nRaspberry Pi Setup')\n",
    "dot.node('B', 'FastAPI')\n",
    "dot.edge('A', 'B')\n",
    "dot.render('skill_tree', view=True)"
   ]
  },
  {
   "cell_type": "markdown",
   "metadata": {},
   "source": [
    "## Next Steps\n",
    "\n",
    "**BMO**: *whirr* Based on our exploration, here's what we should focus on next:\n",
    "1. Setting up development environment\n",
    "2. Basic Docker configuration\n",
    "3. First FastAPI endpoint\n",
    "\n",
    "Ready to start Level 1? (◕‿◕✿)"
   ]
  },
  {
   "cell_type": "markdown",
   "metadata": {},
   "source": [
    "### Game Rules\n",
    "\n",
    "- [ ] Each level has core skills (required) and bonus skills (optional)\n",
    "- [ ] You need 80% of core skills to challenge the boss\n",
    "- [ ] Bonus skills give you power-ups for boss fights\n",
    "- [ ] You can tackle skills in any order within a level\n",
    "- [ ] Document your progress with links to your work\n",
    "- [ ] Boss battles test practical application of skills"
   ]
  }
 ],
 "metadata": {
  "kernelspec": {
   "display_name": "Python 3",
   "language": "python",
   "name": "python3"
  },
  "language_info": {
   "codemirror_mode": {
    "name": "ipython",
    "version": 3
   },
   "file_extension": ".py",
   "mimetype": "text/x-python",
   "name": "python",
   "nbconvert_exporter": "python",
   "pygments_lexer": "ipython3",
   "version": "3.10.12"
  },
  "nbformat": 4,
  "nbformat_minor": 4
 },
 "nbformat": 4,
 "nbformat_minor": 2
}
