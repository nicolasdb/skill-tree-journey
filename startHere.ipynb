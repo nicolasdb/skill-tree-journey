{
 "cells": [
  {
   "cell_type": "code",
   "execution_count": 1,
   "metadata": {},
   "outputs": [],
   "source": [
    "# Import and initialize BMO\n",
    "from bmo_companion import BMO\n",
    "bmo = BMO()"
   ]
  },
  {
   "cell_type": "markdown",
   "metadata": {},
   "source": [
    "- Gooooood morning Bemo!  \n",
    "are you up to level up with me today?"
   ]
  },
  {
   "cell_type": "code",
   "execution_count": 2,
   "metadata": {},
   "outputs": [
    {
     "data": {
      "text/markdown": [
       "\n",
       "*beep boop*\n",
       "\n",
       "Hello friend! I'm BMO, your learning companion! I'm so excited to help you create your own learning adventure!\n",
       "\n",
       "(◕‿◕✿)\n"
      ],
      "text/plain": [
       "<IPython.core.display.Markdown object>"
      ]
     },
     "metadata": {},
     "output_type": "display_data"
    }
   ],
   "source": [
    "bmo.say(\"Hello friend! I'm BMO, your learning companion! I'm so excited to help you create your own learning adventure!\")"
   ]
  },
  {
   "cell_type": "code",
   "execution_count": 3,
   "metadata": {},
   "outputs": [
    {
     "data": {
      "text/markdown": [
       "\n",
       "*beep boop*\n",
       "\n",
       "First things first - what's your name? We're going to be great friends!\n",
       "\n",
       "(◕‿◕✿)\n"
      ],
      "text/plain": [
       "<IPython.core.display.Markdown object>"
      ]
     },
     "metadata": {},
     "output_type": "display_data"
    }
   ],
   "source": [
    "name = bmo.ask(\"First things first - what's your name? We're going to be great friends!\")"
   ]
  },
  {
   "cell_type": "code",
   "execution_count": 4,
   "metadata": {},
   "outputs": [
    {
     "data": {
      "text/markdown": [
       "\n",
       "*happy whirr*\n",
       "\n",
       "It's mathematical to meet you, ! Let's start drawing your learning map together!\n",
       "\n",
       "(◕‿◕✿)\n"
      ],
      "text/plain": [
       "<IPython.core.display.Markdown object>"
      ]
     },
     "metadata": {},
     "output_type": "display_data"
    }
   ],
   "source": [
    "bmo.say(f\"It's mathematical to meet you, {name}! Let's start drawing your learning map together!\")"
   ]
  },
  {
   "cell_type": "markdown",
   "metadata": {},
   "source": []
  }
 ],
 "metadata": {
  "kernelspec": {
   "display_name": "Python 3",
   "language": "python",
   "name": "python3"
  },
  "language_info": {
   "codemirror_mode": {
    "name": "ipython",
    "version": 3
   },
   "file_extension": ".py",
   "mimetype": "text/x-python",
   "name": "python",
   "nbconvert_exporter": "python",
   "pygments_lexer": "ipython3",
   "version": "3.10.12"
  }
 },
 "nbformat": 4,
 "nbformat_minor": 2
}
