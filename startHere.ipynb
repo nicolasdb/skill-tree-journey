{
  "cells": [
    {
      "cell_type": "markdown",
      "metadata": {
        "id": "view-in-github",
        "colab_type": "text"
      },
      "source": [
        "<a href=\"https://colab.research.google.com/github/nicolasdb/skill-tree-journey/blob/main/startHere.ipynb\" target=\"_parent\"><img src=\"https://colab.research.google.com/assets/colab-badge.svg\" alt=\"Open In Colab\"/></a>"
      ]
    },
    {
      "cell_type": "markdown",
      "metadata": {
        "id": "sN5PZ3LFAtHs"
      },
      "source": [
        "# 🎮 Welcome to the Learning Journey Generator\n",
        "\n",
        "## What is this?\n",
        "This notebook helps you generate a structured prompt for creating personalized learning paths. It uses a fake chatbot interface (BMO) to collect essential information about your goals and skills.\n",
        "\n",
        "## About BMO\n",
        "BMO is a simple data collection interface styled after Adventure Time's BMO. Its role is to gather the necessary information in a friendly way to generate your learning journey prompt.\n",
        "\n",
        "## How it works:\n",
        "1. 🎯 Answer BMO's questions about your goals and current skills\n",
        "2. 📄 Get a generated markdown prompt file\n",
        "3. 🤖 Use this prompt with your preferred AI chatbot to create your learning journey\n",
        "\n",
        "## Before you start:\n",
        "- Make sure you have the required Python packages installed (> 3.10)\n",
        "- Ensure you're running this notebook in an environment with Jupyter support\n",
        "\n",
        "Let's begin your adventure! 🚀"
      ]
    },
    {
      "cell_type": "code",
      "metadata": {
        "id": "r6zSsTDiAtHy"
      },
      "source": [
        "from bmo_companion import BMO, LearningJourneyGenerator\n",
        "from IPython.display import Markdown, display"
      ],
      "execution_count": null,
      "outputs": []
    },
    {
      "cell_type": "markdown",
      "metadata": {
        "id": "JFigorShAtH0"
      },
      "source": [
        "## 🎮 Starting Your Journey\n",
        "\n",
        "Time to wake up BMO and start your learning adventure! Run the cell below to begin your conversation.\n",
        "\n",
        "> **Tip**: Click the cell below and press `Shift + Enter` to run it, or use the `Run All` button in your Jupyter toolbar."
      ]
    },
    {
      "cell_type": "code",
      "metadata": {
        "id": "vES2Rz-eAtH1"
      },
      "source": [
        "# Gooooood morning Bemo!\n",
        "# are you up to level up with me today?\n",
        "\n",
        "bmo = BMO()\n",
        "generator = LearningJourneyGenerator(bmo)\n",
        "\n",
        "bmo.say(\"Hello friend! I'm BMO, and I'm here to help you create your learning journey! (◕‿◕✿)\")\n",
        "generator.gather_all_info()"
      ],
      "execution_count": null,
      "outputs": []
    },
    {
      "cell_type": "markdown",
      "metadata": {
        "id": "_Clb6QTiAtH1"
      },
      "source": [
        "## 🎯 Generating Your Prompt\n",
        "\n",
        "After collecting your information, BMO will generate:\n",
        "- A markdown prompt file for your AI chatbot\n",
        "- A JSON profile with your collected data\n",
        "\n",
        "Run the cell below to generate these files:"
      ]
    },
    {
      "cell_type": "code",
      "metadata": {
        "id": "snASbFbmAtH2"
      },
      "source": [
        "prompt_file, profile_json = generator.generate_files()\n",
        "\n",
        "bmo.say(f\"Your learning journey prompt is ready! I've created:\\n1. Prompt file: {prompt_file}\\n2. Profile data: {profile_json}\")"
      ],
      "execution_count": null,
      "outputs": []
    },
    {
      "cell_type": "markdown",
      "metadata": {
        "id": "wK9aQKP_AtH2"
      },
      "source": [
        "## 🎉 What's Next?\n",
        "\n",
        "Now that your prompt is generated:\n",
        "1. Find your generated markdown file in the `outputs/` directory\n",
        "2. Copy its contents and use it as a prompt in your preferred AI chatbot (Claude, ChatGPT, etc.)\n",
        "3. The AI will use this structured prompt to help design your personalized learning journey\n",
        "\n",
        "This is a proof of concept for generating structured learning journey prompts. Future versions may include progress tracking and more interactive features! 🌟"
      ]
    }
  ],
  "metadata": {
    "kernelspec": {
      "display_name": "Python 3",
      "language": "python",
      "name": "python3"
    },
    "colab": {
      "provenance": [],
      "include_colab_link": true
    }
  },
  "nbformat": 4,
  "nbformat_minor": 0
}