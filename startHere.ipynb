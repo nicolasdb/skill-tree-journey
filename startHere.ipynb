{
 "cells": [
  {
   "cell_type": "code",
   "execution_count": 3,
   "metadata": {},
   "outputs": [],
   "source": [
    "from bmo_companion import BMO, LearningJourneyGenerator\n",
    "from IPython.display import Markdown, display"
   ]
  },
  {
   "cell_type": "markdown",
   "metadata": {},
   "source": [
    "- Gooooood morning Bemo!  \n",
    "are you up to level up with me today?  \n",
    "\n",
    "> *press >>> `Run All` to launch*"
   ]
  },
  {
   "cell_type": "code",
   "execution_count": 4,
   "metadata": {},
   "outputs": [
    {
     "data": {
      "text/markdown": [
       "\n",
       "*happy whirr*\n",
       "\n",
       "Hello friend! I'm BMO, and I'm here to help you create your learning journey! (◕‿◕✿)\n",
       "\n",
       "(◠‿◠✿)"
      ],
      "text/plain": [
       "<IPython.core.display.Markdown object>"
      ]
     },
     "metadata": {},
     "output_type": "display_data"
    }
   ],
   "source": [
    "bmo = BMO()\n",
    "generator = LearningJourneyGenerator(bmo)\n",
    "bmo.say(\"Hello friend! I'm BMO, and I'm here to help you create your learning journey! (◕‿◕✿)\")"
   ]
  },
  {
   "cell_type": "code",
   "execution_count": 5,
   "metadata": {},
   "outputs": [
    {
     "data": {
      "text/markdown": [
       "\n",
       "*happy whirr*\n",
       "\n",
       "First things first - what's your name? We're going to be great friends!\n",
       "\n",
       "(◕‿◕✿)"
      ],
      "text/plain": [
       "<IPython.core.display.Markdown object>"
      ]
     },
     "metadata": {},
     "output_type": "display_data"
    },
    {
     "data": {
      "text/markdown": [
       "\n",
       "*excited beeping*\n",
       "\n",
       "What would you like to learn about?\n",
       "\n",
       "(✿◠‿◠)"
      ],
      "text/plain": [
       "<IPython.core.display.Markdown object>"
      ]
     },
     "metadata": {},
     "output_type": "display_data"
    },
    {
     "data": {
      "text/markdown": [
       "\n",
       "*happy whirr*\n",
       "\n",
       "How many hours per week can you dedicate to learning?\n",
       "\n",
       "(⌒‿⌒)"
      ],
      "text/plain": [
       "<IPython.core.display.Markdown object>"
      ]
     },
     "metadata": {},
     "output_type": "display_data"
    },
    {
     "data": {
      "text/markdown": [
       "\n",
       "*excited beeping*\n",
       "\n",
       "How familiar are you with this topic? (beginner/intermediate/advanced):\n",
       "\n",
       "(✿◠‿◠)"
      ],
      "text/plain": [
       "<IPython.core.display.Markdown object>"
      ]
     },
     "metadata": {},
     "output_type": "display_data"
    },
    {
     "data": {
      "text/markdown": [
       "\n",
       "*beep boop*\n",
       "\n",
       "How do you prefer to learn? (e.g., hands-on practice, reading, videos, mix):\n",
       "\n",
       "(◠‿◠✿)"
      ],
      "text/plain": [
       "<IPython.core.display.Markdown object>"
      ]
     },
     "metadata": {},
     "output_type": "display_data"
    },
    {
     "data": {
      "text/markdown": [
       "\n",
       "*happy whirr*\n",
       "\n",
       "What learning pace works best for you? (structured, self-paced, mixed):\n",
       "\n",
       "(✿◠‿◠)"
      ],
      "text/plain": [
       "<IPython.core.display.Markdown object>"
      ]
     },
     "metadata": {},
     "output_type": "display_data"
    },
    {
     "data": {
      "text/markdown": [
       "\n",
       "*happy whirr*\n",
       "\n",
       "Do you prefer many small projects or one big project?\n",
       "\n",
       "(✿◠‿◠)"
      ],
      "text/plain": [
       "<IPython.core.display.Markdown object>"
      ]
     },
     "metadata": {},
     "output_type": "display_data"
    },
    {
     "data": {
      "text/markdown": [
       "\n",
       "*beep boop*\n",
       "\n",
       "Your learning journey is ready! I've created:\n",
       "1. Prompt file: outputs/prompt_20241224_144059.md\n",
       "2. Profile data: outputs/profile_20241224_144059.json\n",
       "\n",
       "(⌒‿⌒)"
      ],
      "text/plain": [
       "<IPython.core.display.Markdown object>"
      ]
     },
     "metadata": {},
     "output_type": "display_data"
    }
   ],
   "source": [
    "generator.gather_all_info()\n",
    "prompt_file, profile_json = generator.generate_files()\n",
    "bmo.say(f\"Your learning journey is ready! I've created:\\n1. Prompt file: {prompt_file}\\n2. Profile data: {profile_json}\")"
   ]
  },
  {
   "cell_type": "markdown",
   "metadata": {},
   "source": [
    "---"
   ]
  }
 ],
 "metadata": {
  "kernelspec": {
   "display_name": "Python 3",
   "language": "python",
   "name": "python3"
  },
  "language_info": {
   "codemirror_mode": {
    "name": "ipython",
    "version": 3
   },
   "file_extension": ".py",
   "mimetype": "text/x-python",
   "name": "python",
   "nbconvert_exporter": "python",
   "pygments_lexer": "ipython3",
   "version": "3.10.12"
  }
 },
 "nbformat": 4,
 "nbformat_minor": 2
}
